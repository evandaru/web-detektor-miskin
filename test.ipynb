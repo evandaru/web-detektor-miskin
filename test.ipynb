{
 "cells": [
  {
   "cell_type": "code",
   "execution_count": 12,
   "metadata": {},
   "outputs": [
    {
     "name": "stdout",
     "output_type": "stream",
     "text": [
      "Rata-rata untuk kelompok miskin:\n",
      "Persentase Penduduk Miskin (P0) Menurut Kabupaten/Kota (Persen)              27.49\n",
      "Rata-rata Lama Sekolah Penduduk 15+ (Tahun)                                   6.82\n",
      "Pengeluaran per Kapita Disesuaikan (Ribu Rupiah/Orang/Tahun)               6981.73\n",
      "Indeks Pembangunan Manusia                                                   60.55\n",
      "Umur Harapan Hidup (Tahun)                                                   65.48\n",
      "Persentase rumah tangga yang memiliki akses terhadap sanitasi layak          54.95\n",
      "Persentase rumah tangga yang memiliki akses terhadap air minum layak         72.14\n",
      "Tingkat Pengangguran Terbuka                                                  3.37\n",
      "Tingkat Partisipasi Angkatan Kerja                                           75.49\n",
      "PDRB atas Dasar Harga Konstan menurut Pengeluaran (Rupiah)              3705299.00\n",
      "Klasifikasi Kemiskinan                                                        1.00\n",
      "dtype: float64\n",
      "\n",
      "Rata-rata untuk kelompok tidak miskin:\n",
      "Persentase Penduduk Miskin (P0) Menurut Kabupaten/Kota (Persen)               10.19\n",
      "Rata-rata Lama Sekolah Penduduk 15+ (Tahun)                                    8.66\n",
      "Pengeluaran per Kapita Disesuaikan (Ribu Rupiah/Orang/Tahun)               10783.35\n",
      "Indeks Pembangunan Manusia                                                    71.21\n",
      "Umur Harapan Hidup (Tahun)                                                    70.23\n",
      "Persentase rumah tangga yang memiliki akses terhadap sanitasi layak           80.26\n",
      "Persentase rumah tangga yang memiliki akses terhadap air minum layak          86.92\n",
      "Tingkat Pengangguran Terbuka                                                   5.29\n",
      "Tingkat Partisipasi Angkatan Kerja                                            68.64\n",
      "PDRB atas Dasar Harga Konstan menurut Pengeluaran (Rupiah)              24468600.19\n",
      "Klasifikasi Kemiskinan                                                         0.00\n",
      "dtype: float64\n"
     ]
    }
   ],
   "source": [
    "import pandas as pd\n",
    "\n",
    "# Ganti path dengan lokasi file CSV yang sesuai di komputer Anda\n",
    "file_path = 'datafake.csv'\n",
    "\n",
    "# Memuat data dari CSV ke dalam DataFrame\n",
    "df = pd.read_csv(file_path)\n",
    "\n",
    "# Memisahkan data menjadi kelompok miskin dan tidak miskin (jika ada)\n",
    "miskin = df[df['Klasifikasi Kemiskinan'] == 1]\n",
    "tidak_miskin = df[df['Klasifikasi Kemiskinan'] == 0]\n",
    "\n",
    "# Hitung rata-rata untuk setiap kelompok jika ada data yang sesuai\n",
    "if not miskin.empty:\n",
    "    rata_rata_miskin = miskin.mean()\n",
    "    print(\"Rata-rata untuk kelompok miskin:\")\n",
    "    print(rata_rata_miskin.round(2))  # Menggunakan round(2) untuk pembulatan 2 digit desimal\n",
    "else:\n",
    "    print(\"Tidak ada data untuk kelompok miskin\")\n",
    "\n",
    "if not tidak_miskin.empty:\n",
    "    rata_rata_tidak_miskin = tidak_miskin.mean()\n",
    "    print(\"\\nRata-rata untuk kelompok tidak miskin:\")\n",
    "    print(rata_rata_tidak_miskin.round(2))  # Menggunakan round(2) untuk pembulatan 2 digit desimal\n",
    "else:\n",
    "    print(\"\\nTidak ada data untuk kelompok tidak miskin\")\n"
   ]
  },
  {
   "cell_type": "code",
   "execution_count": null,
   "metadata": {},
   "outputs": [],
   "source": []
  },
  {
   "cell_type": "code",
   "execution_count": null,
   "metadata": {},
   "outputs": [],
   "source": []
  }
 ],
 "metadata": {
  "kernelspec": {
   "display_name": "Python 3",
   "language": "python",
   "name": "python3"
  },
  "language_info": {
   "codemirror_mode": {
    "name": "ipython",
    "version": 3
   },
   "file_extension": ".py",
   "mimetype": "text/x-python",
   "name": "python",
   "nbconvert_exporter": "python",
   "pygments_lexer": "ipython3",
   "version": "3.11.5"
  }
 },
 "nbformat": 4,
 "nbformat_minor": 2
}
